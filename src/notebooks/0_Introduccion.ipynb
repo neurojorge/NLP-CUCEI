{
 "cells": [
  {
   "cell_type": "markdown",
   "metadata": {},
   "source": [
    "# Sistema de Recomendación de Profesores con RAG y Fine-Tuning\n",
    "**Autor:** Jorge\n",
    "**Proyecto:** NLP - Recomendador de Profesores CUCEI\n",
    "**Contacto:** ingjorge_snchz@gmail.com\n",
    "**Fecha:** 2025-10-08"
   ]
  },
  {
   "cell_type": "markdown",
   "metadata": {},
   "source": [
    "Explicación de la Arquitectura:\n",
    "- **Objetivo:** Construir un sistema de recomendación avanzado que ofrezca respuestas naturales y contextualizadas sobre profesores, basándose en reseñas de estudiantes.\n",
    "- **Componentes:**\n",
    "    - **Extracción y Limpieza:** Procesamiento de datos desde PDFs y web scraping.\n",
    "    - **RAG (Retrieval-Augmented Generation):** Uso de ChromaDB para almacenar y buscar embeddings de reseñas de manera semántica.\n",
    "    - **Fine-Tuning:** Especialización del LLM `microsoft/Phi-3-mini-4k-instruct` con la técnica LoRA para la tarea específica de recomendación.\n",
    "    - **Chatbot:** Un sistema conversacional que integra RAG y el modelo fine-tuned para generar las recomendaciones finales.\n",
    "- **Alcance Público:** El repositorio contiene notebooks y scripts que permiten reproducir todo el flujo del proyecto."
   ]
  },
  {
   "cell_type": "markdown",
   "metadata": {},
   "source": [
    "Guía rápida para ejecutar el proyecto localmente:\n",
    "1. Clona el repositorio de GitHub.\n",
    "2. Instala todas las dependencias: `pip install -r requirements.txt`.\n",
    "3. Revisa y ejecuta los notebooks en orden numérico, comenzando por `0_Introduccion.ipynb`.\n",
    "4. Asegúrate de actualizar las rutas de los archivos locales en los notebooks según la estructura de tu máquina."
   ]
  },
  {
   "cell_type": "markdown",
   "metadata": {},
   "source": []
  }
 ],
 "metadata": {
  "kernelspec": {
   "display_name": "Python 3",
   "language": "python",
   "name": "python3"
  },
  "language_info": {
   "name": "python",
   "version": "3.10.11"
  }
 },
 "nbformat": 4,
 "nbformat_minor": 2
}
